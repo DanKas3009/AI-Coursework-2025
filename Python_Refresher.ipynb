{
  "nbformat": 4,
  "nbformat_minor": 0,
  "metadata": {
    "colab": {
      "provenance": [],
      "authorship_tag": "ABX9TyN4ZC61QdoMMpiEHwglUu3i",
      "include_colab_link": true
    },
    "kernelspec": {
      "name": "python3",
      "display_name": "Python 3"
    },
    "language_info": {
      "name": "python"
    }
  },
  "cells": [
    {
      "cell_type": "markdown",
      "metadata": {
        "id": "view-in-github",
        "colab_type": "text"
      },
      "source": [
        "<a href=\"https://colab.research.google.com/github/DanKas3009/AI-Coursework-2025/blob/main/Python_Refresher.ipynb\" target=\"_parent\"><img src=\"https://colab.research.google.com/assets/colab-badge.svg\" alt=\"Open In Colab\"/></a>"
      ]
    },
    {
      "cell_type": "markdown",
      "source": [
        "#**Assignment 1**"
      ],
      "metadata": {
        "id": "mUxb-jQFLweW"
      }
    },
    {
      "cell_type": "markdown",
      "source": [
        "Question 1"
      ],
      "metadata": {
        "id": "fLkP0R4WL50s"
      }
    },
    {
      "cell_type": "code",
      "source": [],
      "metadata": {
        "id": "PA5-vmQSL4aV"
      },
      "execution_count": null,
      "outputs": []
    }
  ]
}