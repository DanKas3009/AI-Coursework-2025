{
  "cells": [
    {
      "cell_type": "markdown",
      "metadata": {
        "colab_type": "text",
        "id": "view-in-github"
      },
      "source": [
        "<a href=\"https://colab.research.google.com/github/DanKas3009/AI-Coursework-2025/blob/main/Python_Refresher.ipynb\" target=\"_parent\"><img src=\"https://colab.research.google.com/assets/colab-badge.svg\" alt=\"Open In Colab\"/></a>"
      ]
    },
    {
      "cell_type": "markdown",
      "metadata": {
        "id": "mUxb-jQFLweW"
      },
      "source": [
        "# **Assignment 1**"
      ]
    },
    {
      "cell_type": "markdown",
      "metadata": {
        "id": "fLkP0R4WL50s"
      },
      "source": [
        "**Question 1**"
      ]
    },
    {
      "cell_type": "code",
      "execution_count": null,
      "metadata": {
        "id": "PA5-vmQSL4aV"
      },
      "outputs": [
        {
          "name": "stdout",
          "output_type": "stream",
          "text": [
            "5  days =>  432000  seconds\n"
          ]
        }
      ],
      "source": [
        "\"\"\"\n",
        "    one day => 24 h \n",
        "    one hour => 60 min\n",
        "    one min => 60 s\n",
        "    one day => 24 * 60 * 60 = 86400 s\n",
        "\"\"\"\n",
        "\n",
        "# print (\"one day => 24 * 60 * 60 = \", 24 * 60 * 60)\n",
        "\n",
        "number_of_days = int(input(\"Enter number of days: \"))\n",
        "number_of_seconds = number_of_days * 24 * 60 * 60\n",
        "print (number_of_days, \" days => \", number_of_seconds, \" seconds\")"
      ]
    },
    {
      "cell_type": "markdown",
      "metadata": {},
      "source": [
        "**Question 2**\n",
        "\n",
        "Write a program that asks a user to input the radius then the program \n",
        "calculates the volume of a sphere (the formula for the volume is (4/3)πr3). \n",
        "Use the exponential operator in python to compute (r3). "
      ]
    },
    {
      "cell_type": "code",
      "execution_count": 7,
      "metadata": {},
      "outputs": [
        {
          "name": "stdout",
          "output_type": "stream",
          "text": [
            "The volume of the sphere with radius  3.0  is  63.585\n"
          ]
        }
      ],
      "source": [
        "radius = float(input(\"Enter the radius of the sphere: \"))\n",
        "volume = (0.75) * 3.14 * (radius ** 3)\n",
        "print (\"The volume of the sphere with radius \", radius, \" is \", volume)"
      ]
    },
    {
      "cell_type": "markdown",
      "metadata": {},
      "source": [
        "**Question 3**\n",
        "\n",
        "Using functions, write a program to compute the area and perimeter of a \n",
        "square. The program should ask the user to enter a number corresponding to \n",
        "the side length of the square and display the area and perimeter of the \n",
        "square. "
      ]
    },
    {
      "cell_type": "code",
      "execution_count": 13,
      "metadata": {},
      "outputs": [
        {
          "name": "stdout",
          "output_type": "stream",
          "text": [
            "The perimeter of the square with length  3.0  is  12.0\n",
            "The area of the square with length \t 3.0  is  9.0\n"
          ]
        }
      ],
      "source": [
        "def square_perimeter(length):\n",
        "    return 4 * length\n",
        "\n",
        "def square_area(length):\n",
        "    return length ** 2\n",
        "\n",
        "l = float(input (\"Enter the length of your square: \"))\n",
        "\n",
        "print (\"The perimeter of the square with length \", l, \" is \", square_perimeter(l))\n",
        "print (\"The area of the square with length \\t\", l, \" is \", square_area(l))"
      ]
    },
    {
      "cell_type": "markdown",
      "metadata": {},
      "source": [
        "**Question 4**\n",
        "\n",
        "Write a program using functions that determines whether a character input \n",
        "by a user is uppercase or lower case."
      ]
    },
    {
      "cell_type": "code",
      "execution_count": 16,
      "metadata": {},
      "outputs": [
        {
          "name": "stdout",
          "output_type": "stream",
          "text": [
            "The character b your entered is lowercase\n"
          ]
        }
      ],
      "source": [
        "def is_uppercase(char: str) -> str:\n",
        "    if char.isupper():\n",
        "        print(f'The character {char} your entered is uppercase')\n",
        "    else:\n",
        "        print(f'The character {char} your entered is lowercase')\n",
        "\n",
        "c = input(\"Write a character: \")\n",
        "\n",
        "is_uppercase(c)\n"
      ]
    },
    {
      "cell_type": "markdown",
      "metadata": {},
      "source": [
        "**Question 5**\n",
        "\n",
        "The following is pseudocode for a program being designed. Write the \n",
        "Python program equivalent of the same."
      ]
    },
    {
      "cell_type": "code",
      "execution_count": 22,
      "metadata": {},
      "outputs": [
        {
          "name": "stdout",
          "output_type": "stream",
          "text": [
            "20.0\n"
          ]
        }
      ],
      "source": [
        "x : int = 0\n",
        "y : int = 20\n",
        "\n",
        "while y > 6 : \n",
        "    y = y - 4\n",
        "    x = x + (y/2)\n",
        "\n",
        "print (x)"
      ]
    },
    {
      "cell_type": "markdown",
      "metadata": {},
      "source": [
        "**Question 6**\n",
        "\n",
        "Write a Python program that does the following: \n",
        "\n",
        "• Uses a loop for a user to continually input 5 values to populate an \n",
        "array. \n",
        "\n",
        "• Calculates and displays the average of the values input into the array. "
      ]
    },
    {
      "cell_type": "code",
      "execution_count": 24,
      "metadata": {},
      "outputs": [
        {
          "name": "stdout",
          "output_type": "stream",
          "text": [
            "The numbers you entered are: [4, 5, 3, 2, 1]\n",
            "The average of the entered numbers is: 3.0\n"
          ]
        }
      ],
      "source": [
        "numbers = []\n",
        "for i in range(5):\n",
        "    num = int(input(f\"Enter number {i+1}: \"))\n",
        "    numbers.append(num)\n",
        "\n",
        "print(\"The numbers you entered are:\", numbers)\n",
        "\n",
        "average : float = sum(numbers) / 5\n",
        "\n",
        "print(\"The average of the entered numbers is:\", average)"
      ]
    },
    {
      "cell_type": "markdown",
      "metadata": {},
      "source": [
        "**Question 7**"
      ]
    },
    {
      "cell_type": "code",
      "execution_count": null,
      "metadata": {},
      "outputs": [],
      "source": []
    },
    {
      "cell_type": "code",
      "execution_count": null,
      "metadata": {},
      "outputs": [],
      "source": []
    }
  ],
  "metadata": {
    "colab": {
      "authorship_tag": "ABX9TyN4ZC61QdoMMpiEHwglUu3i",
      "include_colab_link": true,
      "provenance": []
    },
    "kernelspec": {
      "display_name": "Python 3",
      "name": "python3"
    },
    "language_info": {
      "codemirror_mode": {
        "name": "ipython",
        "version": 3
      },
      "file_extension": ".py",
      "mimetype": "text/x-python",
      "name": "python",
      "nbconvert_exporter": "python",
      "pygments_lexer": "ipython3",
      "version": "3.13.3"
    }
  },
  "nbformat": 4,
  "nbformat_minor": 0
}
