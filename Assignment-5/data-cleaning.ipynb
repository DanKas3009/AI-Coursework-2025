{
 "cells": [
  {
   "cell_type": "markdown",
   "id": "bfa67e51",
   "metadata": {},
   "source": [
    "# Assignment 5 : Data Cleaning"
   ]
  },
  {
   "cell_type": "markdown",
   "id": "2ee73499",
   "metadata": {},
   "source": [
    "### 1. Determind the number of rows and columns in the dataset"
   ]
  },
  {
   "cell_type": "code",
   "execution_count": null,
   "id": "e4e69960",
   "metadata": {},
   "outputs": [],
   "source": []
  },
  {
   "cell_type": "code",
   "execution_count": null,
   "id": "f23f9ea7",
   "metadata": {},
   "outputs": [],
   "source": []
  }
 ],
 "metadata": {
  "language_info": {
   "name": "python"
  }
 },
 "nbformat": 4,
 "nbformat_minor": 5
}
